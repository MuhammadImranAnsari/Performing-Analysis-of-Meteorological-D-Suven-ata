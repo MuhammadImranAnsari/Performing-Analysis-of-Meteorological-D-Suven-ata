{
  "nbformat": 4,
  "nbformat_minor": 0,
  "metadata": {
    "colab": {
      "name": "Performing Analysis of Meteorological Data.ipynb",
      "provenance": [],
      "collapsed_sections": []
    },
    "kernelspec": {
      "name": "python3",
      "display_name": "Python 3"
    },
    "language_info": {
      "name": "python"
    }
  },
  "cells": [
    {
      "cell_type": "code",
      "metadata": {
        "id": "8NjvguP1tpcL"
      },
      "source": [
        "import pandas as pd\n",
        "from google.colab import files\n"
      ],
      "execution_count": null,
      "outputs": []
    },
    {
      "cell_type": "code",
      "metadata": {
        "id": "UUku5xvEvMEy"
      },
      "source": [
        "df = pd.read_csv(\"weatherHistory.csv\")"
      ],
      "execution_count": null,
      "outputs": []
    },
    {
      "cell_type": "code",
      "metadata": {
        "id": "r2E69lxow0iu"
      },
      "source": [
        "import numpy as np\n",
        "import seaborn as sns\n",
        "import matplotlib.pyplot as plt\n"
      ],
      "execution_count": null,
      "outputs": []
    },
    {
      "cell_type": "code",
      "metadata": {
        "colab": {
          "base_uri": "https://localhost:8080/",
          "height": 408
        },
        "id": "uGd59T1nxJor",
        "outputId": "8813677e-15f5-4693-927c-580af737cecc"
      },
      "source": [
        "df.head()"
      ],
      "execution_count": null,
      "outputs": [
        {
          "output_type": "execute_result",
          "data": {
            "text/html": [
              "<div>\n",
              "<style scoped>\n",
              "    .dataframe tbody tr th:only-of-type {\n",
              "        vertical-align: middle;\n",
              "    }\n",
              "\n",
              "    .dataframe tbody tr th {\n",
              "        vertical-align: top;\n",
              "    }\n",
              "\n",
              "    .dataframe thead th {\n",
              "        text-align: right;\n",
              "    }\n",
              "</style>\n",
              "<table border=\"1\" class=\"dataframe\">\n",
              "  <thead>\n",
              "    <tr style=\"text-align: right;\">\n",
              "      <th></th>\n",
              "      <th>Formatted Date</th>\n",
              "      <th>Summary</th>\n",
              "      <th>Precip Type</th>\n",
              "      <th>Temperature (C)</th>\n",
              "      <th>Apparent Temperature (C)</th>\n",
              "      <th>Humidity</th>\n",
              "      <th>Wind Speed (km/h)</th>\n",
              "      <th>Wind Bearing (degrees)</th>\n",
              "      <th>Visibility (km)</th>\n",
              "      <th>Loud Cover</th>\n",
              "      <th>Pressure (millibars)</th>\n",
              "      <th>Daily Summary</th>\n",
              "    </tr>\n",
              "  </thead>\n",
              "  <tbody>\n",
              "    <tr>\n",
              "      <th>0</th>\n",
              "      <td>2006-04-01 00:00:00.000 +0200</td>\n",
              "      <td>Partly Cloudy</td>\n",
              "      <td>rain</td>\n",
              "      <td>9.472222</td>\n",
              "      <td>7.388889</td>\n",
              "      <td>0.89</td>\n",
              "      <td>14.1197</td>\n",
              "      <td>251.0</td>\n",
              "      <td>15.8263</td>\n",
              "      <td>0.0</td>\n",
              "      <td>1015.13</td>\n",
              "      <td>Partly cloudy throughout the day.</td>\n",
              "    </tr>\n",
              "    <tr>\n",
              "      <th>1</th>\n",
              "      <td>2006-04-01 01:00:00.000 +0200</td>\n",
              "      <td>Partly Cloudy</td>\n",
              "      <td>rain</td>\n",
              "      <td>9.355556</td>\n",
              "      <td>7.227778</td>\n",
              "      <td>0.86</td>\n",
              "      <td>14.2646</td>\n",
              "      <td>259.0</td>\n",
              "      <td>15.8263</td>\n",
              "      <td>0.0</td>\n",
              "      <td>1015.63</td>\n",
              "      <td>Partly cloudy throughout the day.</td>\n",
              "    </tr>\n",
              "    <tr>\n",
              "      <th>2</th>\n",
              "      <td>2006-04-01 02:00:00.000 +0200</td>\n",
              "      <td>Mostly Cloudy</td>\n",
              "      <td>rain</td>\n",
              "      <td>9.377778</td>\n",
              "      <td>9.377778</td>\n",
              "      <td>0.89</td>\n",
              "      <td>3.9284</td>\n",
              "      <td>204.0</td>\n",
              "      <td>14.9569</td>\n",
              "      <td>0.0</td>\n",
              "      <td>1015.94</td>\n",
              "      <td>Partly cloudy throughout the day.</td>\n",
              "    </tr>\n",
              "    <tr>\n",
              "      <th>3</th>\n",
              "      <td>2006-04-01 03:00:00.000 +0200</td>\n",
              "      <td>Partly Cloudy</td>\n",
              "      <td>rain</td>\n",
              "      <td>8.288889</td>\n",
              "      <td>5.944444</td>\n",
              "      <td>0.83</td>\n",
              "      <td>14.1036</td>\n",
              "      <td>269.0</td>\n",
              "      <td>15.8263</td>\n",
              "      <td>0.0</td>\n",
              "      <td>1016.41</td>\n",
              "      <td>Partly cloudy throughout the day.</td>\n",
              "    </tr>\n",
              "    <tr>\n",
              "      <th>4</th>\n",
              "      <td>2006-04-01 04:00:00.000 +0200</td>\n",
              "      <td>Mostly Cloudy</td>\n",
              "      <td>rain</td>\n",
              "      <td>8.755556</td>\n",
              "      <td>6.977778</td>\n",
              "      <td>0.83</td>\n",
              "      <td>11.0446</td>\n",
              "      <td>259.0</td>\n",
              "      <td>15.8263</td>\n",
              "      <td>0.0</td>\n",
              "      <td>1016.51</td>\n",
              "      <td>Partly cloudy throughout the day.</td>\n",
              "    </tr>\n",
              "  </tbody>\n",
              "</table>\n",
              "</div>"
            ],
            "text/plain": [
              "                  Formatted Date  ...                      Daily Summary\n",
              "0  2006-04-01 00:00:00.000 +0200  ...  Partly cloudy throughout the day.\n",
              "1  2006-04-01 01:00:00.000 +0200  ...  Partly cloudy throughout the day.\n",
              "2  2006-04-01 02:00:00.000 +0200  ...  Partly cloudy throughout the day.\n",
              "3  2006-04-01 03:00:00.000 +0200  ...  Partly cloudy throughout the day.\n",
              "4  2006-04-01 04:00:00.000 +0200  ...  Partly cloudy throughout the day.\n",
              "\n",
              "[5 rows x 12 columns]"
            ]
          },
          "metadata": {},
          "execution_count": 15
        }
      ]
    },
    {
      "cell_type": "code",
      "metadata": {
        "colab": {
          "base_uri": "https://localhost:8080/"
        },
        "id": "WUGHMeYSxZ1L",
        "outputId": "8f03889e-cfce-4931-d357-fb56e14de3ad"
      },
      "source": [
        "df.isnull().sum()"
      ],
      "execution_count": null,
      "outputs": [
        {
          "output_type": "execute_result",
          "data": {
            "text/plain": [
              "Formatted Date                0\n",
              "Summary                       0\n",
              "Precip Type                 517\n",
              "Temperature (C)               0\n",
              "Apparent Temperature (C)      0\n",
              "Humidity                      0\n",
              "Wind Speed (km/h)             0\n",
              "Wind Bearing (degrees)        0\n",
              "Visibility (km)               0\n",
              "Loud Cover                    0\n",
              "Pressure (millibars)          0\n",
              "Daily Summary                 0\n",
              "dtype: int64"
            ]
          },
          "metadata": {},
          "execution_count": 16
        }
      ]
    },
    {
      "cell_type": "code",
      "metadata": {
        "colab": {
          "base_uri": "https://localhost:8080/"
        },
        "id": "D2l5F4RwyE0U",
        "outputId": "6e2aca14-a418-46c6-cea2-0e3b7d840981"
      },
      "source": [
        "df.info()"
      ],
      "execution_count": null,
      "outputs": [
        {
          "output_type": "stream",
          "name": "stdout",
          "text": [
            "<class 'pandas.core.frame.DataFrame'>\n",
            "RangeIndex: 96453 entries, 0 to 96452\n",
            "Data columns (total 12 columns):\n",
            " #   Column                    Non-Null Count  Dtype  \n",
            "---  ------                    --------------  -----  \n",
            " 0   Formatted Date            96453 non-null  object \n",
            " 1   Summary                   96453 non-null  object \n",
            " 2   Precip Type               95936 non-null  object \n",
            " 3   Temperature (C)           96453 non-null  float64\n",
            " 4   Apparent Temperature (C)  96453 non-null  float64\n",
            " 5   Humidity                  96453 non-null  float64\n",
            " 6   Wind Speed (km/h)         96453 non-null  float64\n",
            " 7   Wind Bearing (degrees)    96453 non-null  float64\n",
            " 8   Visibility (km)           96453 non-null  float64\n",
            " 9   Loud Cover                96453 non-null  float64\n",
            " 10  Pressure (millibars)      96453 non-null  float64\n",
            " 11  Daily Summary             96453 non-null  object \n",
            "dtypes: float64(8), object(4)\n",
            "memory usage: 8.8+ MB\n"
          ]
        }
      ]
    },
    {
      "cell_type": "code",
      "metadata": {
        "id": "cp9OOb8byKxJ"
      },
      "source": [
        "df['Formatted Date'] = pd.to_datetime(df['Formatted Date'],utc=True)"
      ],
      "execution_count": null,
      "outputs": []
    },
    {
      "cell_type": "code",
      "metadata": {
        "colab": {
          "base_uri": "https://localhost:8080/"
        },
        "id": "q9OKrc3Ny6-8",
        "outputId": "668a511b-d512-4b89-bd18-52722f3ac8a0"
      },
      "source": [
        "df['Formatted Date'] "
      ],
      "execution_count": null,
      "outputs": [
        {
          "output_type": "execute_result",
          "data": {
            "text/plain": [
              "0       2006-03-31 22:00:00+00:00\n",
              "1       2006-03-31 23:00:00+00:00\n",
              "2       2006-04-01 00:00:00+00:00\n",
              "3       2006-04-01 01:00:00+00:00\n",
              "4       2006-04-01 02:00:00+00:00\n",
              "                   ...           \n",
              "96448   2016-09-09 17:00:00+00:00\n",
              "96449   2016-09-09 18:00:00+00:00\n",
              "96450   2016-09-09 19:00:00+00:00\n",
              "96451   2016-09-09 20:00:00+00:00\n",
              "96452   2016-09-09 21:00:00+00:00\n",
              "Name: Formatted Date, Length: 96453, dtype: datetime64[ns, UTC]"
            ]
          },
          "metadata": {},
          "execution_count": 19
        }
      ]
    },
    {
      "cell_type": "code",
      "metadata": {
        "colab": {
          "base_uri": "https://localhost:8080/",
          "height": 422
        },
        "id": "_X8UkOV9y_2A",
        "outputId": "1604113b-cb50-415b-cb05-e619ef0bbe5c"
      },
      "source": [
        "df = df.set_index('Formatted Date')\n",
        "df.head()"
      ],
      "execution_count": null,
      "outputs": [
        {
          "output_type": "execute_result",
          "data": {
            "text/html": [
              "<div>\n",
              "<style scoped>\n",
              "    .dataframe tbody tr th:only-of-type {\n",
              "        vertical-align: middle;\n",
              "    }\n",
              "\n",
              "    .dataframe tbody tr th {\n",
              "        vertical-align: top;\n",
              "    }\n",
              "\n",
              "    .dataframe thead th {\n",
              "        text-align: right;\n",
              "    }\n",
              "</style>\n",
              "<table border=\"1\" class=\"dataframe\">\n",
              "  <thead>\n",
              "    <tr style=\"text-align: right;\">\n",
              "      <th></th>\n",
              "      <th>Summary</th>\n",
              "      <th>Precip Type</th>\n",
              "      <th>Temperature (C)</th>\n",
              "      <th>Apparent Temperature (C)</th>\n",
              "      <th>Humidity</th>\n",
              "      <th>Wind Speed (km/h)</th>\n",
              "      <th>Wind Bearing (degrees)</th>\n",
              "      <th>Visibility (km)</th>\n",
              "      <th>Loud Cover</th>\n",
              "      <th>Pressure (millibars)</th>\n",
              "      <th>Daily Summary</th>\n",
              "    </tr>\n",
              "    <tr>\n",
              "      <th>Formatted Date</th>\n",
              "      <th></th>\n",
              "      <th></th>\n",
              "      <th></th>\n",
              "      <th></th>\n",
              "      <th></th>\n",
              "      <th></th>\n",
              "      <th></th>\n",
              "      <th></th>\n",
              "      <th></th>\n",
              "      <th></th>\n",
              "      <th></th>\n",
              "    </tr>\n",
              "  </thead>\n",
              "  <tbody>\n",
              "    <tr>\n",
              "      <th>2006-03-31 22:00:00+00:00</th>\n",
              "      <td>Partly Cloudy</td>\n",
              "      <td>rain</td>\n",
              "      <td>9.472222</td>\n",
              "      <td>7.388889</td>\n",
              "      <td>0.89</td>\n",
              "      <td>14.1197</td>\n",
              "      <td>251.0</td>\n",
              "      <td>15.8263</td>\n",
              "      <td>0.0</td>\n",
              "      <td>1015.13</td>\n",
              "      <td>Partly cloudy throughout the day.</td>\n",
              "    </tr>\n",
              "    <tr>\n",
              "      <th>2006-03-31 23:00:00+00:00</th>\n",
              "      <td>Partly Cloudy</td>\n",
              "      <td>rain</td>\n",
              "      <td>9.355556</td>\n",
              "      <td>7.227778</td>\n",
              "      <td>0.86</td>\n",
              "      <td>14.2646</td>\n",
              "      <td>259.0</td>\n",
              "      <td>15.8263</td>\n",
              "      <td>0.0</td>\n",
              "      <td>1015.63</td>\n",
              "      <td>Partly cloudy throughout the day.</td>\n",
              "    </tr>\n",
              "    <tr>\n",
              "      <th>2006-04-01 00:00:00+00:00</th>\n",
              "      <td>Mostly Cloudy</td>\n",
              "      <td>rain</td>\n",
              "      <td>9.377778</td>\n",
              "      <td>9.377778</td>\n",
              "      <td>0.89</td>\n",
              "      <td>3.9284</td>\n",
              "      <td>204.0</td>\n",
              "      <td>14.9569</td>\n",
              "      <td>0.0</td>\n",
              "      <td>1015.94</td>\n",
              "      <td>Partly cloudy throughout the day.</td>\n",
              "    </tr>\n",
              "    <tr>\n",
              "      <th>2006-04-01 01:00:00+00:00</th>\n",
              "      <td>Partly Cloudy</td>\n",
              "      <td>rain</td>\n",
              "      <td>8.288889</td>\n",
              "      <td>5.944444</td>\n",
              "      <td>0.83</td>\n",
              "      <td>14.1036</td>\n",
              "      <td>269.0</td>\n",
              "      <td>15.8263</td>\n",
              "      <td>0.0</td>\n",
              "      <td>1016.41</td>\n",
              "      <td>Partly cloudy throughout the day.</td>\n",
              "    </tr>\n",
              "    <tr>\n",
              "      <th>2006-04-01 02:00:00+00:00</th>\n",
              "      <td>Mostly Cloudy</td>\n",
              "      <td>rain</td>\n",
              "      <td>8.755556</td>\n",
              "      <td>6.977778</td>\n",
              "      <td>0.83</td>\n",
              "      <td>11.0446</td>\n",
              "      <td>259.0</td>\n",
              "      <td>15.8263</td>\n",
              "      <td>0.0</td>\n",
              "      <td>1016.51</td>\n",
              "      <td>Partly cloudy throughout the day.</td>\n",
              "    </tr>\n",
              "  </tbody>\n",
              "</table>\n",
              "</div>"
            ],
            "text/plain": [
              "                                 Summary  ...                      Daily Summary\n",
              "Formatted Date                            ...                                   \n",
              "2006-03-31 22:00:00+00:00  Partly Cloudy  ...  Partly cloudy throughout the day.\n",
              "2006-03-31 23:00:00+00:00  Partly Cloudy  ...  Partly cloudy throughout the day.\n",
              "2006-04-01 00:00:00+00:00  Mostly Cloudy  ...  Partly cloudy throughout the day.\n",
              "2006-04-01 01:00:00+00:00  Partly Cloudy  ...  Partly cloudy throughout the day.\n",
              "2006-04-01 02:00:00+00:00  Mostly Cloudy  ...  Partly cloudy throughout the day.\n",
              "\n",
              "[5 rows x 11 columns]"
            ]
          },
          "metadata": {},
          "execution_count": 20
        }
      ]
    },
    {
      "cell_type": "code",
      "metadata": {
        "colab": {
          "base_uri": "https://localhost:8080/",
          "height": 235
        },
        "id": "fm2SJUOLzXBj",
        "outputId": "e627b427-89fd-4653-ea2a-76b84ad35391"
      },
      "source": [
        "df_columns = ['Apparent Temperature (C)', 'Humidity']\n",
        "data_monthly_mean = df[df_columns].resample(\"MS\").mean()\n",
        "data_monthly_mean.head()"
      ],
      "execution_count": null,
      "outputs": [
        {
          "output_type": "execute_result",
          "data": {
            "text/html": [
              "<div>\n",
              "<style scoped>\n",
              "    .dataframe tbody tr th:only-of-type {\n",
              "        vertical-align: middle;\n",
              "    }\n",
              "\n",
              "    .dataframe tbody tr th {\n",
              "        vertical-align: top;\n",
              "    }\n",
              "\n",
              "    .dataframe thead th {\n",
              "        text-align: right;\n",
              "    }\n",
              "</style>\n",
              "<table border=\"1\" class=\"dataframe\">\n",
              "  <thead>\n",
              "    <tr style=\"text-align: right;\">\n",
              "      <th></th>\n",
              "      <th>Apparent Temperature (C)</th>\n",
              "      <th>Humidity</th>\n",
              "    </tr>\n",
              "    <tr>\n",
              "      <th>Formatted Date</th>\n",
              "      <th></th>\n",
              "      <th></th>\n",
              "    </tr>\n",
              "  </thead>\n",
              "  <tbody>\n",
              "    <tr>\n",
              "      <th>2005-12-01 00:00:00+00:00</th>\n",
              "      <td>-4.050000</td>\n",
              "      <td>0.890000</td>\n",
              "    </tr>\n",
              "    <tr>\n",
              "      <th>2006-01-01 00:00:00+00:00</th>\n",
              "      <td>-4.173708</td>\n",
              "      <td>0.834610</td>\n",
              "    </tr>\n",
              "    <tr>\n",
              "      <th>2006-02-01 00:00:00+00:00</th>\n",
              "      <td>-2.990716</td>\n",
              "      <td>0.843467</td>\n",
              "    </tr>\n",
              "    <tr>\n",
              "      <th>2006-03-01 00:00:00+00:00</th>\n",
              "      <td>1.969780</td>\n",
              "      <td>0.778737</td>\n",
              "    </tr>\n",
              "    <tr>\n",
              "      <th>2006-04-01 00:00:00+00:00</th>\n",
              "      <td>12.098827</td>\n",
              "      <td>0.728625</td>\n",
              "    </tr>\n",
              "  </tbody>\n",
              "</table>\n",
              "</div>"
            ],
            "text/plain": [
              "                           Apparent Temperature (C)  Humidity\n",
              "Formatted Date                                               \n",
              "2005-12-01 00:00:00+00:00                 -4.050000  0.890000\n",
              "2006-01-01 00:00:00+00:00                 -4.173708  0.834610\n",
              "2006-02-01 00:00:00+00:00                 -2.990716  0.843467\n",
              "2006-03-01 00:00:00+00:00                  1.969780  0.778737\n",
              "2006-04-01 00:00:00+00:00                 12.098827  0.728625"
            ]
          },
          "metadata": {},
          "execution_count": 25
        }
      ]
    },
    {
      "cell_type": "code",
      "metadata": {
        "colab": {
          "base_uri": "https://localhost:8080/",
          "height": 450
        },
        "id": "7iA4UONz2BbN",
        "outputId": "6fe20c30-1e8b-494c-ec82-c54d17fc01c2"
      },
      "source": [
        "data_monthly_mean"
      ],
      "execution_count": null,
      "outputs": [
        {
          "output_type": "execute_result",
          "data": {
            "text/html": [
              "<div>\n",
              "<style scoped>\n",
              "    .dataframe tbody tr th:only-of-type {\n",
              "        vertical-align: middle;\n",
              "    }\n",
              "\n",
              "    .dataframe tbody tr th {\n",
              "        vertical-align: top;\n",
              "    }\n",
              "\n",
              "    .dataframe thead th {\n",
              "        text-align: right;\n",
              "    }\n",
              "</style>\n",
              "<table border=\"1\" class=\"dataframe\">\n",
              "  <thead>\n",
              "    <tr style=\"text-align: right;\">\n",
              "      <th></th>\n",
              "      <th>Apparent Temperature (C)</th>\n",
              "      <th>Humidity</th>\n",
              "    </tr>\n",
              "    <tr>\n",
              "      <th>Formatted Date</th>\n",
              "      <th></th>\n",
              "      <th></th>\n",
              "    </tr>\n",
              "  </thead>\n",
              "  <tbody>\n",
              "    <tr>\n",
              "      <th>2005-12-01 00:00:00+00:00</th>\n",
              "      <td>-4.050000</td>\n",
              "      <td>0.890000</td>\n",
              "    </tr>\n",
              "    <tr>\n",
              "      <th>2006-01-01 00:00:00+00:00</th>\n",
              "      <td>-4.173708</td>\n",
              "      <td>0.834610</td>\n",
              "    </tr>\n",
              "    <tr>\n",
              "      <th>2006-02-01 00:00:00+00:00</th>\n",
              "      <td>-2.990716</td>\n",
              "      <td>0.843467</td>\n",
              "    </tr>\n",
              "    <tr>\n",
              "      <th>2006-03-01 00:00:00+00:00</th>\n",
              "      <td>1.969780</td>\n",
              "      <td>0.778737</td>\n",
              "    </tr>\n",
              "    <tr>\n",
              "      <th>2006-04-01 00:00:00+00:00</th>\n",
              "      <td>12.098827</td>\n",
              "      <td>0.728625</td>\n",
              "    </tr>\n",
              "    <tr>\n",
              "      <th>...</th>\n",
              "      <td>...</td>\n",
              "      <td>...</td>\n",
              "    </tr>\n",
              "    <tr>\n",
              "      <th>2016-08-01 00:00:00+00:00</th>\n",
              "      <td>21.383094</td>\n",
              "      <td>0.674046</td>\n",
              "    </tr>\n",
              "    <tr>\n",
              "      <th>2016-09-01 00:00:00+00:00</th>\n",
              "      <td>18.355833</td>\n",
              "      <td>0.688833</td>\n",
              "    </tr>\n",
              "    <tr>\n",
              "      <th>2016-10-01 00:00:00+00:00</th>\n",
              "      <td>8.923947</td>\n",
              "      <td>0.799906</td>\n",
              "    </tr>\n",
              "    <tr>\n",
              "      <th>2016-11-01 00:00:00+00:00</th>\n",
              "      <td>3.048627</td>\n",
              "      <td>0.848472</td>\n",
              "    </tr>\n",
              "    <tr>\n",
              "      <th>2016-12-01 00:00:00+00:00</th>\n",
              "      <td>-2.017272</td>\n",
              "      <td>0.887981</td>\n",
              "    </tr>\n",
              "  </tbody>\n",
              "</table>\n",
              "<p>133 rows × 2 columns</p>\n",
              "</div>"
            ],
            "text/plain": [
              "                           Apparent Temperature (C)  Humidity\n",
              "Formatted Date                                               \n",
              "2005-12-01 00:00:00+00:00                 -4.050000  0.890000\n",
              "2006-01-01 00:00:00+00:00                 -4.173708  0.834610\n",
              "2006-02-01 00:00:00+00:00                 -2.990716  0.843467\n",
              "2006-03-01 00:00:00+00:00                  1.969780  0.778737\n",
              "2006-04-01 00:00:00+00:00                 12.098827  0.728625\n",
              "...                                             ...       ...\n",
              "2016-08-01 00:00:00+00:00                 21.383094  0.674046\n",
              "2016-09-01 00:00:00+00:00                 18.355833  0.688833\n",
              "2016-10-01 00:00:00+00:00                  8.923947  0.799906\n",
              "2016-11-01 00:00:00+00:00                  3.048627  0.848472\n",
              "2016-12-01 00:00:00+00:00                 -2.017272  0.887981\n",
              "\n",
              "[133 rows x 2 columns]"
            ]
          },
          "metadata": {},
          "execution_count": 26
        }
      ]
    },
    {
      "cell_type": "code",
      "metadata": {
        "colab": {
          "base_uri": "https://localhost:8080/"
        },
        "id": "tvvLXw8E2N0w",
        "outputId": "d6166039-ce6f-48f4-9c29-dbb01fa0cde9"
      },
      "source": [
        "df1 = data_monthly_mean[data_monthly_mean.index.month==4]\n",
        "print(df1)\n",
        "\n",
        "df1.dtypes"
      ],
      "execution_count": null,
      "outputs": [
        {
          "output_type": "stream",
          "name": "stdout",
          "text": [
            "                           Apparent Temperature (C)  Humidity\n",
            "Formatted Date                                               \n",
            "2006-04-01 00:00:00+00:00                 12.098827  0.728625\n",
            "2007-04-01 00:00:00+00:00                 11.894421  0.536361\n",
            "2008-04-01 00:00:00+00:00                 11.183688  0.693194\n",
            "2009-04-01 00:00:00+00:00                 14.267076  0.567847\n",
            "2010-04-01 00:00:00+00:00                 11.639406  0.706875\n",
            "2011-04-01 00:00:00+00:00                 12.978997  0.591625\n",
            "2012-04-01 00:00:00+00:00                 11.782770  0.650222\n",
            "2013-04-01 00:00:00+00:00                 12.045563  0.677667\n",
            "2014-04-01 00:00:00+00:00                 12.486181  0.691403\n",
            "2015-04-01 00:00:00+00:00                 10.632801  0.547764\n",
            "2016-04-01 00:00:00+00:00                 12.731427  0.659972\n"
          ]
        },
        {
          "output_type": "execute_result",
          "data": {
            "text/plain": [
              "Apparent Temperature (C)    float64\n",
              "Humidity                    float64\n",
              "dtype: object"
            ]
          },
          "metadata": {},
          "execution_count": 27
        }
      ]
    },
    {
      "cell_type": "code",
      "metadata": {
        "colab": {
          "base_uri": "https://localhost:8080/",
          "height": 421
        },
        "id": "ht17Nngn2pP0",
        "outputId": "38351b9b-6c31-4f71-a669-9ac94f1a6750"
      },
      "source": [
        "import seaborn as sns\n",
        "import warnings\n",
        "warnings.filterwarnings(\"ignore\")\n",
        "\n",
        "plt.figure(figsize=(14,6))\n",
        "plt.title(\"variation in Apparent Temprature (C) vs Humidity\")\n",
        "sns.lineplot(data=data_monthly_mean)\n",
        "\n",
        "\n"
      ],
      "execution_count": null,
      "outputs": [
        {
          "output_type": "execute_result",
          "data": {
            "text/plain": [
              "<matplotlib.axes._subplots.AxesSubplot at 0x7f56fc29a9d0>"
            ]
          },
          "metadata": {},
          "execution_count": 72
        },
        {
          "output_type": "display_data",
          "data": {
            "image/png": "[encoded data removed]",
            "text/plain": [
              "<Figure size 1008x432 with 1 Axes>"
            ]
          },
          "metadata": {
            "needs_background": "light"
          }
        }
      ]
    },
    {
      "cell_type": "code",
      "metadata": {
        "colab": {
          "base_uri": "https://localhost:8080/",
          "height": 351
        },
        "id": "Q46li03o4JjG",
        "outputId": "435148fd-b1ae-4aa6-9b49-6e5879b331c7"
      },
      "source": [
        "import matplotlib.dates as mdates\n",
        "from datetime import datetime\n",
        "\n",
        "fig, ax = plt.subplots(figsize=(15,5))\n",
        "ax.plot(df1.loc['2006-04-01':'2016-04-01','Apparent Temperature (C)'],marker='o',linestyle='-',label='Apparent Temperature (C)')\n",
        "ax.plot(df1.loc['2006-04-01':'2016-04-01','Humidity'],marker='o',linestyle='-',label='Humidity')\n",
        "ax.xaxis.set_major_formatter(mdates.DateFormatter(\"%Y-%m\"))\n",
        "ax.legend(loc = 'center right')\n",
        "ax.set_xlabel('month of april')\n"
      ],
      "execution_count": null,
      "outputs": [
        {
          "output_type": "execute_result",
          "data": {
            "text/plain": [
              "Text(0.5, 0, 'month of april')"
            ]
          },
          "metadata": {},
          "execution_count": 95
        },
        {
          "output_type": "display_data",
          "data": {
            "image/png": "[encoded data removed]",
            "text/plain": [
              "<Figure size 1080x360 with 1 Axes>"
            ]
          },
          "metadata": {
            "needs_background": "light"
          }
        }
      ]
    }
  ]
}